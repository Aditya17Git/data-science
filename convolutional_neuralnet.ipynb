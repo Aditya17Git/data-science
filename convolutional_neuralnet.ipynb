{
 "cells": [
  {
   "cell_type": "code",
   "execution_count": 5,
   "id": "1e0cdefe-6ba4-48ca-bea5-2ae24701bac6",
   "metadata": {},
   "outputs": [],
   "source": [
    "import tensorflow as tf\n",
    "from tensorflow import keras\n",
    "from tensorflow.keras import datasets,layers,models\n",
    "import matplotlib.pyplot as plt\n",
    "import numpy as np"
   ]
  },
  {
   "cell_type": "code",
   "execution_count": 6,
   "id": "7ca6a764-ad35-47d8-9576-00efb24a37c7",
   "metadata": {},
   "outputs": [
    {
     "data": {
      "text/plain": [
       "(50000, 32, 32, 3)"
      ]
     },
     "execution_count": 6,
     "metadata": {},
     "output_type": "execute_result"
    }
   ],
   "source": [
    "(x_train,y_train),(x_test,y_test)=datasets.cifar10.load_data()\n",
    "x_train.shape"
   ]
  },
  {
   "cell_type": "code",
   "execution_count": 7,
   "id": "acf7ade7-f0be-4ba2-9c57-d1cd3c80597d",
   "metadata": {},
   "outputs": [
    {
     "data": {
      "text/plain": [
       "(10000, 32, 32, 3)"
      ]
     },
     "execution_count": 7,
     "metadata": {},
     "output_type": "execute_result"
    }
   ],
   "source": [
    "x_test.shape"
   ]
  },
  {
   "cell_type": "code",
   "execution_count": 8,
   "id": "11a51388-1508-4c03-b903-b9091410998a",
   "metadata": {},
   "outputs": [
    {
     "data": {
      "text/plain": [
       "array([[6],\n",
       "       [9],\n",
       "       [9],\n",
       "       [4],\n",
       "       [1]], dtype=uint8)"
      ]
     },
     "execution_count": 8,
     "metadata": {},
     "output_type": "execute_result"
    }
   ],
   "source": [
    "y_train[:5]"
   ]
  },
  {
   "cell_type": "code",
   "execution_count": 9,
   "id": "675f3ccd-f3ba-40c1-82be-6e8f02a4a1f2",
   "metadata": {},
   "outputs": [
    {
     "data": {
      "text/plain": [
       "array([6, 9, 9, 4, 1], dtype=uint8)"
      ]
     },
     "execution_count": 9,
     "metadata": {},
     "output_type": "execute_result"
    }
   ],
   "source": [
    "y_train=y_train.reshape(-1,)\n",
    "y_train[:5]"
   ]
  },
  {
   "cell_type": "code",
   "execution_count": 10,
   "id": "2eae32ca-492e-4d51-be69-eacc15f6399f",
   "metadata": {},
   "outputs": [],
   "source": [
    "classes=[\"airplane\",\"automobile\",\"bird\",\"cat\",\"deer\",\"dog\",\"frog\",\"horse\",\"ship\",\"truck\"]"
   ]
  },
  {
   "cell_type": "code",
   "execution_count": 11,
   "id": "e41b49b5-aecd-46ec-9ba3-34752340dcd9",
   "metadata": {},
   "outputs": [
    {
     "data": {
      "text/plain": [
       "'deer'"
      ]
     },
     "execution_count": 11,
     "metadata": {},
     "output_type": "execute_result"
    }
   ],
   "source": [
    "classes[4]"
   ]
  },
  {
   "cell_type": "code",
   "execution_count": 12,
   "id": "f9aac47a-fd2c-4799-9d42-7bf65a7f5602",
   "metadata": {},
   "outputs": [
    {
     "data": {
      "image/png": "[encoded data removed]",
      "text/plain": [
       "<Figure size 1500x200 with 1 Axes>"
      ]
     },
     "metadata": {},
     "output_type": "display_data"
    }
   ],
   "source": [
    "plt.figure(figsize=(15,2))\n",
    "plt.imshow(x_train[6])\n",
    "plt.xlabel(classes[y_train[6]])\n",
    "plt.show()"
   ]
  },
  {
   "cell_type": "code",
   "execution_count": null,
   "id": "c0fb8b56-970c-4c5a-82a1-8505d24b9cec",
   "metadata": {},
   "outputs": [],
   "source": [
    "# note:- x_train carry images, whereas y_train carry the class_name"
   ]
  },
  {
   "cell_type": "code",
   "execution_count": 25,
   "id": "3fd88912-8182-47d5-beb0-9e1a4216c0ac",
   "metadata": {},
   "outputs": [],
   "source": [
    "x_train=x_train/255\n",
    "x_test=x_test/255"
   ]
  },
  {
   "cell_type": "code",
   "execution_count": null,
   "id": "7740e922-18f5-4f79-9a10-7cac54714a80",
   "metadata": {},
   "outputs": [],
   "source": [
    "# applying ann"
   ]
  },
  {
   "cell_type": "code",
   "execution_count": 14,
   "id": "354b8d06-ad1f-4860-96c8-008a1d0b3466",
   "metadata": {},
   "outputs": [
    {
     "name": "stdout",
     "output_type": "stream",
     "text": [
      "Epoch 1/5\n",
      "1563/1563 [==============================] - 490s 312ms/step - loss: 1.8803 - accuracy: 0.3112\n",
      "Epoch 2/5\n",
      "1563/1563 [==============================] - 471s 301ms/step - loss: 1.6825 - accuracy: 0.3927\n",
      "Epoch 3/5\n",
      "1563/1563 [==============================] - 463s 296ms/step - loss: 1.5852 - accuracy: 0.4297\n",
      "Epoch 4/5\n",
      "1563/1563 [==============================] - 492s 315ms/step - loss: 1.5116 - accuracy: 0.4594\n",
      "Epoch 5/5\n",
      "1563/1563 [==============================] - 504s 323ms/step - loss: 1.4622 - accuracy: 0.4767\n"
     ]
    },
    {
     "data": {
      "text/plain": [
       "<keras.src.callbacks.History at 0x2f5da21dd10>"
      ]
     },
     "execution_count": 14,
     "metadata": {},
     "output_type": "execute_result"
    }
   ],
   "source": [
    "ann=models.Sequential([\n",
    "    layers.Flatten(input_shape=(32,32,3)),\n",
    "    layers.Dense(3000,activation='relu'),\n",
    "    layers.Dense(1000,activation='relu'),\n",
    "    layers.Dense(10,activation='sigmoid')\n",
    "])\n",
    "ann.compile(optimizer='adam',\n",
    "              loss='sparse_categorical_crossentropy',\n",
    "              metrics=['accuracy']\n",
    "             )\n",
    "ann.fit(x_train,y_train,epochs=5)   "
   ]
  },
  {
   "cell_type": "code",
   "execution_count": 15,
   "id": "51a7dbdd-89cc-407c-9048-c6ddd5cc018b",
   "metadata": {},
   "outputs": [
    {
     "name": "stdout",
     "output_type": "stream",
     "text": [
      "313/313 [==============================] - 19s 59ms/step - loss: 1.4790 - accuracy: 0.4723\n"
     ]
    },
    {
     "data": {
      "text/plain": [
       "[1.478954553604126, 0.4722999930381775]"
      ]
     },
     "execution_count": 15,
     "metadata": {},
     "output_type": "execute_result"
    }
   ],
   "source": [
    "ann.evaluate(x_test,y_test)"
   ]
  },
  {
   "cell_type": "code",
   "execution_count": 16,
   "id": "0ad6dfcc-5f8b-4eec-887a-1d74d9a82055",
   "metadata": {},
   "outputs": [
    {
     "data": {
      "text/plain": [
       "[array([[3],\n",
       "        [8],\n",
       "        [8],\n",
       "        [0],\n",
       "        [6]], dtype=uint8)]"
      ]
     },
     "execution_count": 16,
     "metadata": {},
     "output_type": "execute_result"
    }
   ],
   "source": [
    "[y_test[:5]]"
   ]
  },
  {
   "cell_type": "code",
   "execution_count": 17,
   "id": "ab4004d6-35a3-411c-9aab-d3c43c1d37fd",
   "metadata": {},
   "outputs": [
    {
     "name": "stdout",
     "output_type": "stream",
     "text": [
      "313/313 [==============================] - 19s 59ms/step\n"
     ]
    }
   ],
   "source": [
    "y_pred=ann.predict(x_test)\n",
    "y_pred_classes=[np.argmax(element) for element in y_pred]"
   ]
  },
  {
   "cell_type": "code",
   "execution_count": 20,
   "id": "fba7762d-bfb6-42c0-9d57-1ba619f1b4b0",
   "metadata": {},
   "outputs": [
    {
     "data": {
      "text/plain": [
       "[3, 8, 8, 8, 4]"
      ]
     },
     "execution_count": 20,
     "metadata": {},
     "output_type": "execute_result"
    }
   ],
   "source": [
    "y_pred_classes[:5]"
   ]
  },
  {
   "cell_type": "code",
   "execution_count": 23,
   "id": "72fb7f1e-14ce-49d1-9803-9b37c35911d1",
   "metadata": {},
   "outputs": [],
   "source": [
    "from sklearn.metrics import classification_report"
   ]
  },
  {
   "cell_type": "code",
   "execution_count": 22,
   "id": "3fd64cc3-d325-4634-b2f8-d1fdcb332260",
   "metadata": {},
   "outputs": [
    {
     "name": "stdout",
     "output_type": "stream",
     "text": [
      "classificaton report :-\n",
      "              precision    recall  f1-score   support\n",
      "\n",
      "           0       0.55      0.50      0.52      1000\n",
      "           1       0.65      0.55      0.60      1000\n",
      "           2       0.36      0.35      0.36      1000\n",
      "           3       0.40      0.25      0.31      1000\n",
      "           4       0.36      0.46      0.40      1000\n",
      "           5       0.52      0.26      0.34      1000\n",
      "           6       0.42      0.71      0.52      1000\n",
      "           7       0.59      0.45      0.51      1000\n",
      "           8       0.45      0.78      0.57      1000\n",
      "           9       0.62      0.41      0.49      1000\n",
      "\n",
      "    accuracy                           0.47     10000\n",
      "   macro avg       0.49      0.47      0.46     10000\n",
      "weighted avg       0.49      0.47      0.46     10000\n",
      "\n"
     ]
    }
   ],
   "source": [
    "print(\"classificaton report :-\")\n",
    "print(classification_report(y_test,y_pred_classes))"
   ]
  },
  {
   "cell_type": "code",
   "execution_count": null,
   "id": "21044480-3540-4bc9-9486-693da7360406",
   "metadata": {},
   "outputs": [],
   "source": [
    "# so as we can see that the result above is unsatisfactory while using 'ann' with only 48 percent accuracy on test data and 47 percent on train data"
   ]
  },
  {
   "cell_type": "code",
   "execution_count": null,
   "id": "d5efd64b-3117-4630-92ec-11b1799b3c71",
   "metadata": {},
   "outputs": [],
   "source": [
    "# now applying cnn"
   ]
  },
  {
   "cell_type": "code",
   "execution_count": 26,
   "id": "40053e99-7199-47cf-88b4-5779fb862e7c",
   "metadata": {},
   "outputs": [],
   "source": [
    "cnn=models.Sequential([\n",
    "    # cnn\n",
    "    layers.Conv2D(filters=32,kernel_size=(3,3),activation='relu',input_shape=(32,32,3)),\n",
    "    layers.MaxPooling2D((2,2)),\n",
    "\n",
    "    layers.Conv2D(filters=64,kernel_size=(3, 3),activation='relu'),\n",
    "    layers.MaxPooling2D((2, 2)),\n",
    "\n",
    "    # dense\n",
    "    layers.Flatten(),\n",
    "    layers.Dense(64,activation='relu'),\n",
    "    layers.Dense(10,activation='softmax')\n",
    "])\n",
    "    "
   ]
  },
  {
   "cell_type": "code",
   "execution_count": 27,
   "id": "d47a152b-93e2-40c9-bc23-8498002244c9",
   "metadata": {},
   "outputs": [],
   "source": [
    "cnn.compile(optimizer='adam',\n",
    "            loss='sparse_categorical_crossentropy',\n",
    "            metrics=['accuracy'])"
   ]
  },
  {
   "cell_type": "code",
   "execution_count": null,
   "id": "6d70e980-327e-4b8e-8735-eadee15a10d1",
   "metadata": {},
   "outputs": [
    {
     "name": "stdout",
     "output_type": "stream",
     "text": [
      "Epoch 1/10\n",
      "1563/1563 [==============================] - 123s 77ms/step - loss: 2.3028 - accuracy: 0.0984\n",
      "Epoch 2/10\n",
      "1563/1563 [==============================] - 121s 78ms/step - loss: 2.3028 - accuracy: 0.0987\n",
      "Epoch 3/10\n",
      "1563/1563 [==============================] - 123s 79ms/step - loss: 2.3028 - accuracy: 0.1000\n",
      "Epoch 4/10\n",
      "1563/1563 [==============================] - -3489s -2233581us/step - loss: 2.3028 - accuracy: 0.0978\n",
      "Epoch 5/10\n",
      "1563/1563 [==============================] - 125s 80ms/step - loss: 2.3027 - accuracy: 0.0990\n",
      "Epoch 6/10\n",
      " 448/1563 [=======>......................] - ETA: 1:22 - loss: 2.3028 - accuracy: 0.0967"
     ]
    }
   ],
   "source": [
    "cnn.fit(x_train,y_train,epochs=10)"
   ]
  },
  {
   "cell_type": "code",
   "execution_count": null,
   "id": "cca5a254-2cce-4fd0-a1b2-5679b40619ac",
   "metadata": {},
   "outputs": [],
   "source": []
  }
 ],
 "metadata": {
  "kernelspec": {
   "display_name": "Python 3 (ipykernel)",
   "language": "python",
   "name": "python3"
  },
  "language_info": {
   "codemirror_mode": {
    "name": "ipython",
    "version": 3
   },
   "file_extension": ".py",
   "mimetype": "text/x-python",
   "name": "python",
   "nbconvert_exporter": "python",
   "pygments_lexer": "ipython3",
   "version": "3.11.3"
  }
 },
 "nbformat": 4,
 "nbformat_minor": 5
}
